{
 "cells": [
  {
   "cell_type": "code",
   "execution_count": null,
   "id": "502946e6",
   "metadata": {
    "vscode": {
     "languageId": "plaintext"
    }
   },
   "outputs": [],
   "source": [
    "class Agents:\n",
    "    def __init__(self, name):\n",
    "        self.name = name"
   ]
  }
 ],
 "metadata": {
  "language_info": {
   "name": "python"
  }
 },
 "nbformat": 4,
 "nbformat_minor": 5
}
